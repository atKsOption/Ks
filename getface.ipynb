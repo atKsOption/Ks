{
 "cells": [
  {
   "cell_type": "code",
   "execution_count": 2,
   "metadata": {},
   "outputs": [
    {
     "data": {
      "text/plain": [
       "5"
      ]
     },
     "execution_count": 2,
     "metadata": {},
     "output_type": "execute_result"
    }
   ],
   "source": [
    "import numpy as np\n",
    "import cv2\n",
    "\n",
    "def getFace():\n",
    "    cap = cv2.VideoCapture(0)\n",
    "    i = 0\n",
    "    while(True):\n",
    "        ret, frame = cap.read()    \n",
    "        cv2.imshow(\"frame\",frame)\n",
    "        k = cv2.waitKey(1)\n",
    "    \n",
    "        if(k == ord('p')):\n",
    "            i = i + 1\n",
    "            fileload = \"/home/kj/picf/%d.jpg\" % i\n",
    "            cv2.imshow(\"photo\",frame)\n",
    "            cv2.imwrite(fileload,frame)\n",
    "            cv2.waitKey(500);\n",
    "            cv2.destroyWindow(\"photo\")\n",
    "        \n",
    "        elif(k == ord('q')):\n",
    "             break\n",
    "    \n",
    "        \n",
    "    cap.release()\n",
    "    cv2.destroyAllWindows() \n",
    "    return i\n",
    "    \n",
    "    \n",
    "getFace()\n",
    "\n",
    "        \n",
    "\n",
    "    "
   ]
  },
  {
   "cell_type": "code",
   "execution_count": 57,
   "metadata": {
    "collapsed": true,
    "scrolled": true
   },
   "outputs": [],
   "source": [
    "import numpy as np\n",
    "import cv2\n",
    "def recoFace():\n",
    "    face_cascade = cv2.CascadeClassifier('/home/kj/opencv-3.1.0/data/haarcascades_cuda/haarcascade_frontalface_alt.xml')\n",
    "    countPhoto = getFace()\n",
    "    \n",
    "    for fa in range(countPhoto):\n",
    "\n",
    "   \n",
    "        img = cv2.imread('/home/kj/picf/%d.jpg' %(fa+1))\n",
    "        gray = cv2.cvtColor(img,cv2.COLOR_BGR2GRAY)\n",
    "        faces = face_cascade.detectMultiScale(gray,  1.3 ,5)\n",
    "        for (x,y,w,h) in faces:\n",
    "#             cv2.rectangle(img,(x,y),(x+w,y+h),(255,0,0),3)\n",
    "            roi_color = img[y:y+h, x:x+w]\n",
    "            roi_gray = gray[y:y+h, x:x+w]\n",
    "           \n",
    "        \n",
    "            fitPhoto = cv2.resize(roi_gray,(92,112))\n",
    "            cv2.imwrite('/home/kj/facere/s41/%d.jpg' %(fa+1),fitPhoto)\n",
    "\n",
    "\n",
    "    \n",
    "    \n",
    "recoFace()\n"
   ]
  }
 ],
 "metadata": {
  "kernelspec": {
   "display_name": "Python 2",
   "language": "python",
   "name": "python2"
  },
  "language_info": {
   "codemirror_mode": {
    "name": "ipython",
    "version": 2
   },
   "file_extension": ".py",
   "mimetype": "text/x-python",
   "name": "python",
   "nbconvert_exporter": "python",
   "pygments_lexer": "ipython2",
   "version": "2.7.12"
  }
 },
 "nbformat": 4,
 "nbformat_minor": 2
}

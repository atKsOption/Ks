{
 "cells": [
  {
   "cell_type": "code",
   "execution_count": 1,
   "metadata": {},
   "outputs": [
    {
     "name": "stdout",
     "output_type": "stream",
     "text": [
      "Help on built-in function predict:\n",
      "\n",
      "predict(...)\n",
      "    predict(src) -> retval  or  predict(src) -> label, confidence  or  predict(src, collector[, state]) -> None\n",
      "\n"
     ]
    }
   ],
   "source": [
    "import csv\n",
    "import cv2\n",
    "import numpy as np\n",
    "message = csv.reader(open(\"/home/kj/facere/at.txt\"))\n",
    "imgs = []\n",
    "labels = []\n",
    "\n",
    "for item in message:\n",
    "    s = \"\".join(item).split(';')\n",
    "    path = s[0]\n",
    "    label = s[1]    \n",
    "    labels.append(int(label))\n",
    "    imgs.append(cv2.imread((path),cv2.IMREAD_GRAYSCALE))\n",
    "\n",
    "\n",
    "recognizer = cv2.face.createLBPHFaceRecognizer()  \n",
    "recognizer.train(imgs, np.array(labels))  \n",
    "recognizer.save(\"/home/kj/picf/recognizer.xml\")     \n",
    "\n",
    "\n",
    "help(cv2.face.createLBPHFaceRecognizer().predict)    \n"
   ]
  },
  {
   "cell_type": "code",
   "execution_count": 2,
   "metadata": {},
   "outputs": [
    {
     "name": "stdout",
     "output_type": "stream",
     "text": [
      "41\n"
     ]
    }
   ],
   "source": [
    "predicted = recognizer.predict(np.array(cv2.imread(\"/home/kj/facere/s41/1.jpg\",cv2.IMREAD_GRAYSCALE)))\n",
    "print (predicted)"
   ]
  }
 ],
 "metadata": {
  "kernelspec": {
   "display_name": "Python 2",
   "language": "python",
   "name": "python2"
  },
  "language_info": {
   "codemirror_mode": {
    "name": "ipython",
    "version": 2
   },
   "file_extension": ".py",
   "mimetype": "text/x-python",
   "name": "python",
   "nbconvert_exporter": "python",
   "pygments_lexer": "ipython2",
   "version": "2.7.12"
  }
 },
 "nbformat": 4,
 "nbformat_minor": 2
}

{
 "cells": [
  {
   "cell_type": "code",
   "execution_count": 1,
   "metadata": {},
   "outputs": [
    {
     "name": "stdout",
     "output_type": "stream",
     "text": [
      "xxxx\n"
     ]
    }
   ],
   "source": [
    "import numpy as np\n",
    "import cv2\n",
    "\n",
    "img = cv2.imread('/home/kj/pic/timg.jpg',cv2.IMREAD_COLOR)\n",
    "cv2.imshow('CAT',img)\n",
    "k = cv2.waitKey(0)\n",
    "\n",
    "\n",
    "\n",
    "print (\"xxxx\")\n",
    "\n",
    "cv2.destroyAllWindows()"
   ]
  },
  {
   "cell_type": "code",
   "execution_count": 5,
   "metadata": {
    "collapsed": true
   },
   "outputs": [],
   "source": [
    "import numpy as np\n",
    "import cv2\n",
    "img = np.zeros((512,512,3), np.uint8)\n",
    "\n",
    "cv2.rectangle(img,(0,0),(511,511),(0,255,0),-1)\n",
    "\n",
    "cv2.imshow('13',img)\n",
    "k = cv2.waitKey(0)\n",
    "cv2.destroyAllWindows()"
   ]
  },
  {
   "cell_type": "code",
   "execution_count": 1,
   "metadata": {
    "collapsed": true,
    "scrolled": true
   },
   "outputs": [],
   "source": [
    "import numpy as np\n",
    "import cv2\n",
    "\n",
    "cap = cv2.VideoCapture(0)\n",
    "\n",
    "while(True):\n",
    "    ret, frame = cap.read()\n",
    "\n",
    "    \n",
    "#     gray = cv2.cvtColor(frame, cv2.COLOR_BGR2GRAY)\n",
    "    \n",
    "    cv2.imshow('frame',frame)\n",
    "    if cv2.waitKey(1)&0xFF == ord('q'):\n",
    "        break\n",
    "\n",
    "cap.release()\n",
    "cv2.destroyAllWindows()"
   ]
  },
  {
   "cell_type": "code",
   "execution_count": 23,
   "metadata": {},
   "outputs": [
    {
     "name": "stdout",
     "output_type": "stream",
     "text": [
      "1\n",
      "2\n"
     ]
    }
   ],
   "source": [
    "import numpy as np\n",
    "import cv2\n",
    "face_cascade = cv2.CascadeClassifier('/home/kj/opencv-3.1.0/data/haarcascades/haarcascade_frontalface_alt2.xml')\n",
    "eye_cascade = cv2.CascadeClassifier('/home/kj/opencv-3.1.0/data/haarcascades_cuda/haarcascade_eye.xml')\n",
    "img = cv2.imread('/home/kj/pic/timg.jpg')\n",
    "gray = cv2.cvtColor(img, cv2.COLOR_BGR2GRAY)\n",
    "\n",
    "faces = face_cascade.detectMultiScale(gray,  1.3 ,5)\n",
    "print(len(faces))\n",
    "for (x,y,w,h) in faces:\n",
    "#     img = \n",
    "    cv2.rectangle(img,(x,y),(x+w,y+h),(255,0,0),3)\n",
    "    roi_gray = gray[y:y+h, x:x+w]\n",
    "    roi_color = img[y:y+h, x:x+w]\n",
    "    eyes = eye_cascade.detectMultiScale(roi_gray,1.3,5)\n",
    "    print(len(eyes))\n",
    "    for (ex,ey,ew,eh) in eyes:\n",
    "        cv2.rectangle(roi_color,(ex,ey),(ex+ew,ey+eh),(0,255,0),2)\n",
    "\n",
    "cv2.imshow('img',img)\n",
    "k = cv2.waitKey(0)&0xFF\n",
    "cv2.destroyAllWindows()"
   ]
  },
  {
   "cell_type": "code",
   "execution_count": 12,
   "metadata": {},
   "outputs": [
    {
     "name": "stdout",
     "output_type": "stream",
     "text": [
      "发现1个人脸!\n"
     ]
    }
   ],
   "source": [
    "\n",
    "import numpy as np\n",
    "import cv2\n",
    "\n",
    "\n",
    "imagepath = '/home/kj/picf/7.jpg'\n",
    "\n",
    "\n",
    "face_cascade = cv2.CascadeClassifier('/home/kj/opencv-3.1.0/data/haarcascades_cuda/haarcascade_frontalface_alt.xml')\n",
    "\n",
    "\n",
    "image = cv2.imread(imagepath)\n",
    "\n",
    "gray = cv2.cvtColor(image,cv2.COLOR_BGR2GRAY)\n",
    "\n",
    "\n",
    "\n",
    "faces = face_cascade.detectMultiScale(gray, 1.3 , 5 )\n",
    "     \n",
    "print \"发现{0}个人脸!\".format(len(faces))\n",
    "\n",
    "     \n",
    "\n",
    "for(x,y,w,h) in faces:\n",
    "\n",
    "    cv2.rectangle(image,(x,y),(x+w,y+h),(255,0,0),3)\n",
    "\n",
    "     \n",
    "\n",
    "cv2.imshow(\"Find Faces!\",image)\n",
    "\n",
    "cv2.waitKey(0)\n",
    "cv2.destroyAllWindows()\n"
   ]
  }
 ],
 "metadata": {
  "kernelspec": {
   "display_name": "Python 2",
   "language": "python",
   "name": "python2"
  },
  "language_info": {
   "codemirror_mode": {
    "name": "ipython",
    "version": 2
   },
   "file_extension": ".py",
   "mimetype": "text/x-python",
   "name": "python",
   "nbconvert_exporter": "python",
   "pygments_lexer": "ipython2",
   "version": "2.7.12"
  }
 },
 "nbformat": 4,
 "nbformat_minor": 2
}

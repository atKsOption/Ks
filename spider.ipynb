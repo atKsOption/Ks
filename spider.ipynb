{
 "cells": [
  {
   "cell_type": "code",
   "execution_count": 75,
   "metadata": {},
   "outputs": [
    {
     "name": "stdout",
     "output_type": "stream",
     "text": [
      "快递真的好快，1天就OK了....\\n不错\\n开LOL和DOTA2最高画质仍丝滑无比\\n棒棒棒<div class='uploadimgdiv'><img class='uploadimg' border='0'  src='http://img30.360buyimg.com/shaidan/jfs/t7111/12/550083046/32191/240fed9b/5981a359Nc7d51434.jpg' /></div><div class='uploadimgdiv'><img class='uploadimg' border='0'  src='http://img30.360buyimg.com/shaidan/jfs/t6091/268/7780310009/29021/bb175917/5981a35aNebfea16e.jpg' /></div><div class='uploadimgdiv'><img class='uploadimg' border='0'  src='http://img30.360buyimg.com/shaidan/jfs/t5788/69/8977930525/27505/74a702b1/5981a35bNb29307ad.jpg' /></div><div class='uploadimgdiv'><img class='uploadimg' border='0'  src='http://img30.360buyimg.com/shaidan/jfs/t6088/273/7776148373/31603/911e27d7/5981a35cNa6b90919.jpg' /></div><div class='uploadimgdiv'><img class='uploadimg' border='0'  src='http://img30.360buyimg.com/shaidan/jfs/t6955/328/1463618216/19672/d0121506/5981a35cN06a7440a.jpg' /></div><div class='uploadimgdiv'><img class='uploadimg' border='0'  src='http://img30.360buyimg.com/shaidan/jfs/t7123/97/527915615/40868/3094e04d/5981a35dN65b9952a.jpg' /></div>\n",
      "--------------------------------------------------------\n",
      "小米制造，质量过硬，效果超群。您的选择错不了！感谢您对小米的支持。期待您的下次光临哦~\n",
      "--------------------------------------------------------\n",
      "终于等到你      不愧是小米  真好用   人生的第一台笔记本 希望小米6能有货     我是米粉    小米加油\n",
      "--------------------------------------------------------\n",
      "正在试用，先上图片&hellip;&hellip;\n",
      "--------------------------------------------------------\n",
      "轻薄，续航长，屏幕不错，指纹非常灵敏，登陆太方便了。\n",
      "--------------------------------------------------------\n",
      "玩了好多天了，这是第一次买笔记本电脑，冲着颜值来的，觉得小米笔记本做得好漂亮才买的。我还是个电脑小白，刚买回来算是什么都不懂啊，现在呢好多地方都摸清楚了，用起来也顺手了。我下载了之前玩过的Q飞车，觉得不卡啊，这个和网络关系很重要，我接手机的3G网热点就觉得卡，接了家里50M的光纤WI-FI就不卡了。我也不知道说啥了，毕竟不怎么了解电脑。。。遗憾的是感觉外壳不怎么坚固，我拿着笔记本轻轻碰了一下车门就有一个凹点，不算大，很心痛啊。还是要保管好喔！！要是以后有什么问题再说吧！总体来说很喜欢！\n",
      "--------------------------------------------------------\n",
      "电脑很轻，1308g。送货很快，11点下单，下午5点多就送到了。系统挺快的，不过充电的时候静电很明显，电表测试最高110V，不过电流不大。其实两个手同时使用的时候不会的，单手就有感觉。问了客服，明显感觉到很多这种问题，而且现在他们也没有任何解决方案。金属外壳的真没办法了，已经买了贴纸，贴上去之后看看还会不会了。整体做工还不错，还有要进步的空间！毕竟国货当自强，小米是一家一直进步的公司。我不是米粉，用过小米3手机，用了两三年系统还不算卡，买了两部小米5手机，基本上都出现主板问题，还没过保时！所以品质还需要一点运气才能买到好产品！其他使用有什么问题后期再追评了！\n",
      "--------------------------------------------------------\n",
      "京东商城速度没的说说      机子很漂亮去   上面一排按键有些高低不平  不知道是设计的事  还是什么原因   新开机感觉散热一般吧    正在激活就有点热    活动价买的性价比去还是不错的\n",
      "--------------------------------------------------------\n",
      "电池实际测试 新机待机一天耗损百分之7左右的电    满电至百分之20  实际用4.5小时  看电视 浏览网页   没有玩游戏    操控性还是非常棒的  键盘背光不匀 看了朋友的还有小米之家的实体机子F1-F12这些键盘都有落差  不知道乍回事  去小米之家看了下都一样毛病   散热可以接受的    店员说完美主义者不太适合这款机子\",\"discussionId\":249679811}},\"plusAvailable\":201,\"userExpValue\":12944,\"productSales\":[],\"recommend\":true,\"userLevelColor\":\"#e1a10a\",\"userClientShow\":\"来自京东Android客户端\",\"isMobile\":true,\"days\":0,\"afterDays\":3},{\"id\":10666477054,\"guid\":\"53679b25-3846-4f02-879f-397cb24e473e\",\"content\":\"当天买当天到，产品果然好，希望没有问题，害怕售后服务，虽然很薄很轻，但是到手捉住用一点力捉住感觉很软，好像很脆弱一样&hellip;&hellip;\n",
      "--------------------------------------------------------\n",
      "8月1号0点开卖，想买很久了，于是果断熬夜等12点。然后当天下午就到了，现在试用了几天，蛮好的。工作用不错，不过我没有玩游戏，毕竟本身不是游戏本\n",
      "--------------------------------------------------------\n"
     ]
    }
   ],
   "source": [
    "import requests\n",
    "from  bs4 import BeautifulSoup\n",
    "import re\n",
    "\n",
    "\n",
    "res = requests.get(\"https://club.jd.com/comment/productPageComments.action?callback=fetchJSON_comment98vv1116&productId=5302338&score=0&sortType=5&page=15&pageSize=10&isShadowSku=0&rid=0&fold=1\")\n",
    "pattern = re.compile(r'content\":\"(.+?)\",\"creationTime')\n",
    "results = pattern.findall(res.text)\n",
    "\n",
    "\n",
    "for i in range(1,len(results),2):   \n",
    "    print results[i]\n",
    "    print (\"--------------------------------------------------------\")\n",
    "     \n",
    "\n",
    "        \n"
   ]
  },
  {
   "cell_type": "code",
   "execution_count": 21,
   "metadata": {},
   "outputs": [
    {
     "name": "stdout",
     "output_type": "stream",
     "text": [
      "#\n",
      "# link2\n"
     ]
    }
   ],
   "source": [
    "from bs4 import BeautifulSoup\n",
    "html_sample = ' \\\n",
    "<html> \\\n",
    " <body> \\\n",
    " <h1 id=\"title\">Hello World</h1> \\\n",
    " <a href=\"#\" class=\"link\">This is link1</a> \\\n",
    " <a href=\"# link2\" class=\"link\">This is link2</a> \\\n",
    " </body> \\\n",
    " </html>'\n",
    "\n",
    "soup = BeautifulSoup(html_sample,'html.parser')\n",
    "alinks = soup.select('a')\n",
    "for link in alinks:\n",
    "    print(link['href'])"
   ]
  },
  {
   "cell_type": "code",
   "execution_count": null,
   "metadata": {
    "collapsed": true
   },
   "outputs": [],
   "source": []
  }
 ],
 "metadata": {
  "kernelspec": {
   "display_name": "Python 2",
   "language": "python",
   "name": "python2"
  },
  "language_info": {
   "codemirror_mode": {
    "name": "ipython",
    "version": 2
   },
   "file_extension": ".py",
   "mimetype": "text/x-python",
   "name": "python",
   "nbconvert_exporter": "python",
   "pygments_lexer": "ipython2",
   "version": "2.7.12"
  }
 },
 "nbformat": 4,
 "nbformat_minor": 2
}

{
 "cells": [
  {
   "cell_type": "code",
   "execution_count": 6,
   "metadata": {},
   "outputs": [
    {
     "data": {
      "text/plain": [
       "['chris+clarice', 'arnold+alice', 'bob+bernice']"
      ]
     },
     "execution_count": 6,
     "metadata": {},
     "output_type": "execute_result"
    }
   ],
   "source": [
    "girls = ['alice','bernice','clarice']\n",
    "boys = ['chris','arnold','bob']\n",
    "[b+ '+'+g for b in boys for g in girls if b[0] == g[0]]"
   ]
  },
  {
   "cell_type": "code",
   "execution_count": 5,
   "metadata": {},
   "outputs": [
    {
     "name": "stdout",
     "output_type": "stream",
     "text": [
      "This is a static method\n",
      "This is a class method of <class '__main__.MyClass'>\n"
     ]
    }
   ],
   "source": [
    "__metaclass__ = type\n",
    "\n",
    "class MyClass:\n",
    "    @staticmethod\n",
    "    def smeth():\n",
    "        print 'This is a static method'\n",
    "        \n",
    "    @classmethod\n",
    "    def cmeth(cls):\n",
    "        print 'This is a class method of',cls\n",
    "        \n",
    "        \n",
    "MyClass.smeth()\n",
    "\n",
    "MyClass.cmeth()"
   ]
  },
  {
   "cell_type": "code",
   "execution_count": 15,
   "metadata": {},
   "outputs": [
    {
     "data": {
      "text/plain": [
       "4"
      ]
     },
     "execution_count": 15,
     "metadata": {},
     "output_type": "execute_result"
    }
   ],
   "source": [
    "def square(x):\n",
    "    'Calculates the square of the number x.'\n",
    "    return x*x\n",
    "\n",
    "square(2)"
   ]
  },
  {
   "cell_type": "code",
   "execution_count": 3,
   "metadata": {},
   "outputs": [
    {
     "name": "stdout",
     "output_type": "stream",
     "text": [
      "Hello, I'm A.\n",
      "Hello, I'm B.\n"
     ]
    }
   ],
   "source": [
    "class A:\n",
    "    def hello(self):\n",
    "        print \"Hello, I'm A.\"\n",
    "\n",
    "class B(A):\n",
    "    def hello(self):\n",
    "        print \"Hello, I'm B.\"\n",
    "a = A()\n",
    "b = B()\n",
    "a.hello()\n",
    "b.hello()"
   ]
  },
  {
   "cell_type": "code",
   "execution_count": 6,
   "metadata": {},
   "outputs": [
    {
     "data": {
      "text/plain": [
       "150"
      ]
     },
     "execution_count": 6,
     "metadata": {},
     "output_type": "execute_result"
    }
   ],
   "source": [
    "__metaclass__ = type\n",
    "class Rectangle:\n",
    "    def __init__(self):\n",
    "        self.width = 0\n",
    "        self.height = 0\n",
    "    def setSize(self, size):\n",
    "        self.width,self.height = size\n",
    "    def getSize(self):\n",
    "        return self.width,self.height\n",
    "    size = property(getSize, setSize)\n",
    "    \n",
    "    \n",
    "r = Rectangle()\n",
    "r.size = 150, 100\n",
    "r.width"
   ]
  },
  {
   "cell_type": "code",
   "execution_count": 18,
   "metadata": {},
   "outputs": [
    {
     "name": "stdout",
     "output_type": "stream",
     "text": [
      "610\n"
     ]
    },
    {
     "data": {
      "text/plain": [
       "[987, 1597, 2584, 4181, 6765]"
      ]
     },
     "execution_count": 18,
     "metadata": {},
     "output_type": "execute_result"
    }
   ],
   "source": [
    "class Fibs:\n",
    "    def __init__(self):\n",
    "        self.a = 0\n",
    "        self.b = 1\n",
    "    def next(self):\n",
    "        self.a, self.b = self.b, self.a+self.b\n",
    "        if self.a > 10000: raise StopIteration\n",
    "        return self.a\n",
    "    def __iter__(self):\n",
    "        return self\n",
    "    \n",
    "    \n",
    "fibs = Fibs()\n",
    "    \n",
    "\n",
    "for f in fibs:\n",
    "    if f > 500:\n",
    "        print f\n",
    "        break\n",
    "        \n",
    "list(fibs)"
   ]
  },
  {
   "cell_type": "code",
   "execution_count": 29,
   "metadata": {},
   "outputs": [
    {
     "data": {
      "text/plain": [
       "285"
      ]
     },
     "execution_count": 29,
     "metadata": {},
     "output_type": "execute_result"
    }
   ],
   "source": [
    "sum(i**2 for i in range(10))"
   ]
  },
  {
   "cell_type": "code",
   "execution_count": 43,
   "metadata": {},
   "outputs": [
    {
     "data": {
      "text/plain": [
       "['a', 'b', 'c', 'd', 'e', 'f', 'g']"
      ]
     },
     "execution_count": 43,
     "metadata": {},
     "output_type": "execute_result"
    }
   ],
   "source": [
    "# recursion（递归） 生成器\n",
    "\n",
    "def flatten(nested):\n",
    "    try:\n",
    "        #不能迭代类似字符串的对象\n",
    "        try: nested + ''\n",
    "        except TypeError:pass\n",
    "        else: raise TypeError\n",
    "    \n",
    "        for sublist in nested:\n",
    "            for element in flatten(sublist):\n",
    "                yield element\n",
    "    except TypeError:\n",
    "        yield nested\n",
    "        \n",
    "        \n",
    "        \n",
    "list(flatten([\"a\",[\"b\",\"c\"],\"d\",[\"e\",[\"f\",[\"g\"]]]]))"
   ]
  }
 ],
 "metadata": {
  "kernelspec": {
   "display_name": "Python 2",
   "language": "python",
   "name": "python2"
  },
  "language_info": {
   "codemirror_mode": {
    "name": "ipython",
    "version": 2
   },
   "file_extension": ".py",
   "mimetype": "text/x-python",
   "name": "python",
   "nbconvert_exporter": "python",
   "pygments_lexer": "ipython2",
   "version": "2.7.12"
  }
 },
 "nbformat": 4,
 "nbformat_minor": 2
}
